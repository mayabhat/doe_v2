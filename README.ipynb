{
  "nbformat": 4,
  "nbformat_minor": 0,
  "metadata": {
    "colab": {
      "name": "README.ipynb",
      "provenance": []
    },
    "kernelspec": {
      "name": "python3",
      "display_name": "Python 3"
    },
    "language_info": {
      "name": "python"
    }
  },
  "cells": [
    {
      "cell_type": "markdown",
      "source": [
        "## Design of Experiments (DOE) Package\n",
        "This github repo hosts a simple code for designing experiments, building models, and seeing basic statistical information. The package is aimed to be used to direct experimental or computational work when it comes to exploring multidimensional spaces (ex. formulation chemistries). You may want to install the library with the following:"
      ],
      "metadata": {
        "id": "cAmn7wDRvI8v"
      }
    },
    {
      "cell_type": "code",
      "execution_count": null,
      "metadata": {
        "id": "jgs_MXFuvGXt"
      },
      "outputs": [],
      "source": [
        "!pip install git+https://github.com/mayabhat/doe_v2 "
      ]
    },
    {
      "cell_type": "markdown",
      "source": [
        "Once installed, you can import the doe module as follows:"
      ],
      "metadata": {
        "id": "jeA04P-Uwa8r"
      }
    },
    {
      "cell_type": "code",
      "source": [
        "from doe import doe"
      ],
      "metadata": {
        "id": "B85Ouv3mv-mU"
      },
      "execution_count": 3,
      "outputs": []
    },
    {
      "cell_type": "markdown",
      "source": [
        "## Creating Design Files \n",
        "You can create xlsx files that contain the necessary experiments by creating a design object and specifying the experiment's desired directory, the independent variables, and the expected output variables."
      ],
      "metadata": {
        "id": "em-iiENPw0uS"
      }
    },
    {
      "cell_type": "code",
      "source": [
        "design = doe.doe('test-dir', ['CompA', 'CompB'], ['Target1'])\n",
        "design"
      ],
      "metadata": {
        "colab": {
          "base_uri": "https://localhost:8080/",
          "height": 223
        },
        "id": "9glrFGSSwkCV",
        "outputId": "0f3a8a0d-7225-47fc-9260-48e10eb18be3"
      },
      "execution_count": 4,
      "outputs": [
        {
          "output_type": "execute_result",
          "data": {
            "text/plain": [
              "Directory name with design xls: test-dir\n",
              "Solutions: ['CompA', 'CompB']\n",
              "CompA: 0.0 to 0.0\n",
              "CompB: 0.0 to 0.0\n",
              "Total Experiments: 0\n",
              "Experimental Design \n",
              "Empty DataFrame\n",
              "Columns: [CompA, CompB, Target1]\n",
              "Index: []"
            ],
            "text/html": [
              "<a href=\"<IPython.core.display.HTML object>\" target =\"_blank\">test-dir</a><br>Report<br><br>Directory name with design xls: test-dir<br>Solutions: ['CompA', 'CompB']<br></pre>CompA: 0.0 to 0.0</pre><br></pre>CompB: 0.0 to 0.0</pre><br>Total Experiments: 0<br><br> Experimental Design <br><table border=\"1\" class=\"dataframe\">\n",
              "  <thead>\n",
              "    <tr style=\"text-align: right;\">\n",
              "      <th></th>\n",
              "      <th>CompA</th>\n",
              "      <th>CompB</th>\n",
              "      <th>Target1</th>\n",
              "    </tr>\n",
              "  </thead>\n",
              "  <tbody>\n",
              "  </tbody>\n",
              "</table>"
            ]
          },
          "metadata": {},
          "execution_count": 4
        }
      ]
    },
    {
      "cell_type": "markdown",
      "source": [
        "There should now be a directory called test-dir if there was not already. To make the design, you will need to call the method make_design() as follows. make_design() takes in a design array and a range. \n",
        "\n",
        "The design array can be manually generated or generated using the pyDOE2 functionalities expressed in this package. Designs can be of the form  doe.bbdesign(), doe.ccdesign(), doe.fullfact, or more. See documentation to figure out how to make a design https://pythonhosted.org/pyDOE/. \n",
        "\n",
        "pyDOE2 outputs designs from -1 to 1. Range takes center points and distance from center points to convert -1 to 1 to scaled values. The form is [[center point, deviation], [center point, deviation]] where the length of the list is the equivalent to the number of independent variables.\n",
        "\n",
        "make_design() outputs an xlsx file with the experiments that must be completed. Target values should be inputed as the experiments are completed in the target column. "
      ],
      "metadata": {
        "id": "sGKcCUnKzKci"
      }
    },
    {
      "cell_type": "code",
      "source": [
        "d = doe.ccdesign(2, face = 'cci')\n",
        "range = [[3, 1.5], [10, 8]]\n",
        "design.make_design(d, range)\n",
        "design"
      ],
      "metadata": {
        "colab": {
          "base_uri": "https://localhost:8080/",
          "height": 725
        },
        "id": "lyOUwZvJzJZW",
        "outputId": "3f7713e8-74c6-4f20-d8fa-c7b71f709847"
      },
      "execution_count": 5,
      "outputs": [
        {
          "output_type": "execute_result",
          "data": {
            "text/plain": [
              "Directory name with design xls: test-dir\n",
              "Solutions: ['CompA', 'CompB']\n",
              "CompA: 1.5 to 4.5\n",
              "CompB: 2.0 to 1.8e+01\n",
              "Total Experiments: 16\n",
              "Experimental Design \n",
              "      CompA      CompB Target1\n",
              "0   1.93934   4.343146        \n",
              "1   4.06066   4.343146        \n",
              "2   1.93934  15.656854        \n",
              "3   4.06066  15.656854        \n",
              "4   3.00000  10.000000        \n",
              "5   3.00000  10.000000        \n",
              "6   3.00000  10.000000        \n",
              "7   3.00000  10.000000        \n",
              "8   1.50000  10.000000        \n",
              "9   4.50000  10.000000        \n",
              "10  3.00000   2.000000        \n",
              "11  3.00000  18.000000        \n",
              "12  3.00000  10.000000        \n",
              "13  3.00000  10.000000        \n",
              "14  3.00000  10.000000        \n",
              "15  3.00000  10.000000        "
            ],
            "text/html": [
              "<a href=\"<IPython.core.display.HTML object>\" target =\"_blank\">test-dir</a><br>Report<br><br>Directory name with design xls: test-dir<br>Solutions: ['CompA', 'CompB']<br></pre>CompA: 1.5 to 4.5</pre><br></pre>CompB: 2.0 to 1.8e+01</pre><br>Total Experiments: 16<br><br> Experimental Design <br><table border=\"1\" class=\"dataframe\">\n",
              "  <thead>\n",
              "    <tr style=\"text-align: right;\">\n",
              "      <th></th>\n",
              "      <th>CompA</th>\n",
              "      <th>CompB</th>\n",
              "      <th>Target1</th>\n",
              "    </tr>\n",
              "  </thead>\n",
              "  <tbody>\n",
              "    <tr>\n",
              "      <th>0</th>\n",
              "      <td>1.93934</td>\n",
              "      <td>4.343146</td>\n",
              "      <td></td>\n",
              "    </tr>\n",
              "    <tr>\n",
              "      <th>1</th>\n",
              "      <td>4.06066</td>\n",
              "      <td>4.343146</td>\n",
              "      <td></td>\n",
              "    </tr>\n",
              "    <tr>\n",
              "      <th>2</th>\n",
              "      <td>1.93934</td>\n",
              "      <td>15.656854</td>\n",
              "      <td></td>\n",
              "    </tr>\n",
              "    <tr>\n",
              "      <th>3</th>\n",
              "      <td>4.06066</td>\n",
              "      <td>15.656854</td>\n",
              "      <td></td>\n",
              "    </tr>\n",
              "    <tr>\n",
              "      <th>4</th>\n",
              "      <td>3.00000</td>\n",
              "      <td>10.000000</td>\n",
              "      <td></td>\n",
              "    </tr>\n",
              "    <tr>\n",
              "      <th>5</th>\n",
              "      <td>3.00000</td>\n",
              "      <td>10.000000</td>\n",
              "      <td></td>\n",
              "    </tr>\n",
              "    <tr>\n",
              "      <th>6</th>\n",
              "      <td>3.00000</td>\n",
              "      <td>10.000000</td>\n",
              "      <td></td>\n",
              "    </tr>\n",
              "    <tr>\n",
              "      <th>7</th>\n",
              "      <td>3.00000</td>\n",
              "      <td>10.000000</td>\n",
              "      <td></td>\n",
              "    </tr>\n",
              "    <tr>\n",
              "      <th>8</th>\n",
              "      <td>1.50000</td>\n",
              "      <td>10.000000</td>\n",
              "      <td></td>\n",
              "    </tr>\n",
              "    <tr>\n",
              "      <th>9</th>\n",
              "      <td>4.50000</td>\n",
              "      <td>10.000000</td>\n",
              "      <td></td>\n",
              "    </tr>\n",
              "    <tr>\n",
              "      <th>10</th>\n",
              "      <td>3.00000</td>\n",
              "      <td>2.000000</td>\n",
              "      <td></td>\n",
              "    </tr>\n",
              "    <tr>\n",
              "      <th>11</th>\n",
              "      <td>3.00000</td>\n",
              "      <td>18.000000</td>\n",
              "      <td></td>\n",
              "    </tr>\n",
              "    <tr>\n",
              "      <th>12</th>\n",
              "      <td>3.00000</td>\n",
              "      <td>10.000000</td>\n",
              "      <td></td>\n",
              "    </tr>\n",
              "    <tr>\n",
              "      <th>13</th>\n",
              "      <td>3.00000</td>\n",
              "      <td>10.000000</td>\n",
              "      <td></td>\n",
              "    </tr>\n",
              "    <tr>\n",
              "      <th>14</th>\n",
              "      <td>3.00000</td>\n",
              "      <td>10.000000</td>\n",
              "      <td></td>\n",
              "    </tr>\n",
              "    <tr>\n",
              "      <th>15</th>\n",
              "      <td>3.00000</td>\n",
              "      <td>10.000000</td>\n",
              "      <td></td>\n",
              "    </tr>\n",
              "  </tbody>\n",
              "</table>"
            ]
          },
          "metadata": {},
          "execution_count": 5
        }
      ]
    },
    {
      "cell_type": "markdown",
      "source": [
        "## Building a Model with Results\n",
        "\n",
        "To build a model with the obtained results, you will need to call the method fit(). Fit takes in a path to a results xlsx file. This file should be of the same format as the design xlsx with independent and dependent variable names as column headings. \n",
        "\n",
        "fit() should output a stdout report containing information about the linear model's parameters, p values, r^2, residual plots, and more. "
      ],
      "metadata": {
        "id": "LRXIlrKp1huh"
      }
    },
    {
      "cell_type": "code",
      "source": [
        "design.fit('results.xlsx')\n",
        "design"
      ],
      "metadata": {
        "colab": {
          "base_uri": "https://localhost:8080/",
          "height": 1000
        },
        "id": "XP5YPyWn0rpB",
        "outputId": "f36c2be8-9e40-4e17-c0a7-20ae0b400970"
      },
      "execution_count": 7,
      "outputs": [
        {
          "output_type": "execute_result",
          "data": {
            "text/plain": [
              "Directory name with design xls: test-dir\n",
              "Solutions: ['CompA', 'CompB']\n",
              "CompA: 1.5 to 4.5\n",
              "CompB: 2.0 to 1.8e+01\n",
              "Total Experiments: 16\n",
              "Experimental Design \n",
              "      CompA      CompB  Target1\n",
              "0   1.93934   4.343146        1\n",
              "1   4.06066   4.343146        2\n",
              "2   1.93934  15.656854        3\n",
              "3   4.06066  15.656854        1\n",
              "4   3.00000  10.000000        2\n",
              "5   3.00000  10.000000        3\n",
              "6   3.00000  10.000000        1\n",
              "7   3.00000  10.000000        2\n",
              "8   1.50000  10.000000        4\n",
              "9   4.50000  10.000000        5\n",
              "10  3.00000   2.000000        3\n",
              "11  3.00000  18.000000        5\n",
              "12  3.00000  10.000000        6\n",
              "13  3.00000  10.000000        7\n",
              "14  3.00000  10.000000        2\n",
              "15  3.00000  10.000000        3Mapping of the x labeled features is as follows:\n",
              "1: \tx0\n",
              "CompA: \tx1\n",
              "CompB: \tx2\n",
              "CompA^2: \tx3\n",
              "CompA CompB: \tx4\n",
              "CompB^2: \tx5\n",
              "\n",
              "P values less than 0.05 are significant\n",
              "1: \t0.79\n",
              "CompA: \t0.78\n",
              "CompB: \t0.41\n",
              "CompA^2: \t1.0\n",
              "CompA CompB: \t0.5\n",
              "CompB^2: \t0.75\n",
              "Model R Squared Values: 0.093\n",
              "\n",
              " Optimum prediction occurs at {\"['Target1']\": 4.853553390593341, 'Compositions': array([ 1.5, 18. ])} for self.comps"
            ],
            "text/html": [
              "<a href=\"<IPython.core.display.HTML object>\" target =\"_blank\">test-dir</a><br>Report<br><br>Directory name with design xls: test-dir<br>Solutions: ['CompA', 'CompB']<br></pre>CompA: 1.5 to 4.5</pre><br></pre>CompB: 2.0 to 1.8e+01</pre><br>Total Experiments: 16<br><br> Data <br><table border=\"1\" class=\"dataframe\">\n",
              "  <thead>\n",
              "    <tr style=\"text-align: right;\">\n",
              "      <th></th>\n",
              "      <th>CompA</th>\n",
              "      <th>CompB</th>\n",
              "      <th>Target1</th>\n",
              "    </tr>\n",
              "  </thead>\n",
              "  <tbody>\n",
              "    <tr>\n",
              "      <th>0</th>\n",
              "      <td>1.93934</td>\n",
              "      <td>4.343146</td>\n",
              "      <td>1</td>\n",
              "    </tr>\n",
              "    <tr>\n",
              "      <th>1</th>\n",
              "      <td>4.06066</td>\n",
              "      <td>4.343146</td>\n",
              "      <td>2</td>\n",
              "    </tr>\n",
              "    <tr>\n",
              "      <th>2</th>\n",
              "      <td>1.93934</td>\n",
              "      <td>15.656854</td>\n",
              "      <td>3</td>\n",
              "    </tr>\n",
              "    <tr>\n",
              "      <th>3</th>\n",
              "      <td>4.06066</td>\n",
              "      <td>15.656854</td>\n",
              "      <td>1</td>\n",
              "    </tr>\n",
              "    <tr>\n",
              "      <th>4</th>\n",
              "      <td>3.00000</td>\n",
              "      <td>10.000000</td>\n",
              "      <td>2</td>\n",
              "    </tr>\n",
              "    <tr>\n",
              "      <th>5</th>\n",
              "      <td>3.00000</td>\n",
              "      <td>10.000000</td>\n",
              "      <td>3</td>\n",
              "    </tr>\n",
              "    <tr>\n",
              "      <th>6</th>\n",
              "      <td>3.00000</td>\n",
              "      <td>10.000000</td>\n",
              "      <td>1</td>\n",
              "    </tr>\n",
              "    <tr>\n",
              "      <th>7</th>\n",
              "      <td>3.00000</td>\n",
              "      <td>10.000000</td>\n",
              "      <td>2</td>\n",
              "    </tr>\n",
              "    <tr>\n",
              "      <th>8</th>\n",
              "      <td>1.50000</td>\n",
              "      <td>10.000000</td>\n",
              "      <td>4</td>\n",
              "    </tr>\n",
              "    <tr>\n",
              "      <th>9</th>\n",
              "      <td>4.50000</td>\n",
              "      <td>10.000000</td>\n",
              "      <td>5</td>\n",
              "    </tr>\n",
              "    <tr>\n",
              "      <th>10</th>\n",
              "      <td>3.00000</td>\n",
              "      <td>2.000000</td>\n",
              "      <td>3</td>\n",
              "    </tr>\n",
              "    <tr>\n",
              "      <th>11</th>\n",
              "      <td>3.00000</td>\n",
              "      <td>18.000000</td>\n",
              "      <td>5</td>\n",
              "    </tr>\n",
              "    <tr>\n",
              "      <th>12</th>\n",
              "      <td>3.00000</td>\n",
              "      <td>10.000000</td>\n",
              "      <td>6</td>\n",
              "    </tr>\n",
              "    <tr>\n",
              "      <th>13</th>\n",
              "      <td>3.00000</td>\n",
              "      <td>10.000000</td>\n",
              "      <td>7</td>\n",
              "    </tr>\n",
              "    <tr>\n",
              "      <th>14</th>\n",
              "      <td>3.00000</td>\n",
              "      <td>10.000000</td>\n",
              "      <td>2</td>\n",
              "    </tr>\n",
              "    <tr>\n",
              "      <th>15</th>\n",
              "      <td>3.00000</td>\n",
              "      <td>10.000000</td>\n",
              "      <td>3</td>\n",
              "    </tr>\n",
              "  </tbody>\n",
              "</table><br> Model R Squared Value:<br>0.093<br><br> Optimum Prediction<br> {\"['Target1']\": 4.853553390593341, 'Compositions': array([ 1.5, 18. ])} for ['CompA', 'CompB']<br><br>P values less than 0.05 are significant<br><table border=\"1\" class=\"dataframe\">\n",
              "  <thead>\n",
              "    <tr style=\"text-align: right;\">\n",
              "      <th></th>\n",
              "      <th>coefficients</th>\n",
              "      <th>pvalues</th>\n",
              "    </tr>\n",
              "    <tr>\n",
              "      <th>features</th>\n",
              "      <th></th>\n",
              "      <th></th>\n",
              "    </tr>\n",
              "  </thead>\n",
              "  <tbody>\n",
              "    <tr>\n",
              "      <th>1</th>\n",
              "      <td>-2.273667e+00</td>\n",
              "      <td>0.791929</td>\n",
              "    </tr>\n",
              "    <tr>\n",
              "      <th>CompA</th>\n",
              "      <td>1.298816e+00</td>\n",
              "      <td>0.775728</td>\n",
              "    </tr>\n",
              "    <tr>\n",
              "      <th>CompB</th>\n",
              "      <td>6.158471e-01</td>\n",
              "      <td>0.413186</td>\n",
              "    </tr>\n",
              "    <tr>\n",
              "      <th>CompA^2</th>\n",
              "      <td>6.661338e-16</td>\n",
              "      <td>1.000000</td>\n",
              "    </tr>\n",
              "    <tr>\n",
              "      <th>CompA CompB</th>\n",
              "      <td>-1.250000e-01</td>\n",
              "      <td>0.496331</td>\n",
              "    </tr>\n",
              "    <tr>\n",
              "      <th>CompB^2</th>\n",
              "      <td>-7.812500e-03</td>\n",
              "      <td>0.746163</td>\n",
              "    </tr>\n",
              "  </tbody>\n",
              "</table>"
            ]
          },
          "metadata": {},
          "execution_count": 7
        },
        {
          "output_type": "display_data",
          "data": {
            "text/plain": [
              "<Figure size 1008x360 with 3 Axes>"
            ],
            "image/png": "[encoded data removed]"
          },
          "metadata": {
            "needs_background": "light"
          }
        }
      ]
    },
    {
      "cell_type": "markdown",
      "source": [
        "## Other Functionalities\n",
        "You can make a parity plot to see how the model's predicted vs experimental values are. If the model is good, these values should fall on a 45 degree x = y line. "
      ],
      "metadata": {
        "id": "ESAMHF8a24xz"
      }
    },
    {
      "cell_type": "code",
      "source": [
        "design.parity()"
      ],
      "metadata": {
        "colab": {
          "base_uri": "https://localhost:8080/",
          "height": 295
        },
        "id": "HZQcjWId2sbl",
        "outputId": "2a982afc-9cd5-4a96-aa52-4bcd8ca86c23"
      },
      "execution_count": 8,
      "outputs": [
        {
          "output_type": "display_data",
          "data": {
            "text/plain": [
              "<Figure size 432x288 with 1 Axes>"
            ],
            "image/png": "[encoded data removed]"
          },
          "metadata": {
            "needs_background": "light"
          }
        }
      ]
    },
    {
      "cell_type": "markdown",
      "source": [
        "You can get an optimum prediction by either specifying maximize or minimize with the optimum() function. If you want to maximize the target, indicate maximize = True, if you want to minimize, indicate maximize = False. "
      ],
      "metadata": {
        "id": "S1qqWor13uk1"
      }
    },
    {
      "cell_type": "code",
      "source": [
        "design.optimum(maximize = True)"
      ],
      "metadata": {
        "colab": {
          "base_uri": "https://localhost:8080/"
        },
        "id": "J5ZCZ9zn3raJ",
        "outputId": "9207d8ab-81f2-44e2-d68a-199d435238fc"
      },
      "execution_count": 9,
      "outputs": [
        {
          "output_type": "execute_result",
          "data": {
            "text/plain": [
              "{'Compositions': array([ 1.5, 18. ]), \"['Target1']\": 4.853553390593341}"
            ]
          },
          "metadata": {},
          "execution_count": 9
        }
      ]
    },
    {
      "cell_type": "markdown",
      "source": [
        "Residual plots can be displayed with residual_plots(). There are a few ways to tell if your model is not good enough. Theoretically, the histogram of your residuals should be normally distributed, and the data points on the qq plot should fall on the 45 degree angle line. If this is not the case, the model may need to be revisted. "
      ],
      "metadata": {
        "id": "atByncjn5Elf"
      }
    },
    {
      "cell_type": "code",
      "source": [
        "design.residual_plots()\n"
      ],
      "metadata": {
        "colab": {
          "base_uri": "https://localhost:8080/",
          "height": 350
        },
        "id": "3NFZtKBa5BNY",
        "outputId": "08c97ac4-2396-47fd-a2f7-6e3e7eddf862"
      },
      "execution_count": 11,
      "outputs": [
        {
          "output_type": "display_data",
          "data": {
            "text/plain": [
              "<Figure size 1008x360 with 3 Axes>"
            ],
            "image/png": "[encoded data removed]"
          },
          "metadata": {
            "needs_background": "light"
          }
        }
      ]
    },
    {
      "cell_type": "markdown",
      "source": [
        "P values indicate which of the components in the model contribute the greatest to the variance in target values. P values under 0.05 are most significant, and those above 0.05 are not. If none are under 0.05, the next lowest can be considered statistically significant. "
      ],
      "metadata": {
        "id": "GqBQnSge5Om7"
      }
    },
    {
      "cell_type": "code",
      "source": [
        "print(design.p_values())"
      ],
      "metadata": {
        "colab": {
          "base_uri": "https://localhost:8080/"
        },
        "id": "Mof8cbBp5Nld",
        "outputId": "8df28e5f-04c0-4d50-e858-d0e0b8c8dcdd"
      },
      "execution_count": 12,
      "outputs": [
        {
          "output_type": "stream",
          "name": "stdout",
          "text": [
            "CompB has the most significant P value of 0.41\n",
            "P values are as follows where 1 is constant:\n",
            "1: \t0.79\n",
            "CompA: \t0.78\n",
            "CompB: \t0.41\n",
            "CompA^2: \t1.0\n",
            "CompA CompB: \t0.5\n",
            "CompB^2: \t0.75\n"
          ]
        }
      ]
    },
    {
      "cell_type": "code",
      "source": [
        ""
      ],
      "metadata": {
        "id": "kZGvlOXL9ydA"
      },
      "execution_count": null,
      "outputs": []
    }
  ]
}